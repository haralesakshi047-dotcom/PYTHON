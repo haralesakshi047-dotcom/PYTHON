{
  "nbformat": 4,
  "nbformat_minor": 0,
  "metadata": {
    "colab": {
      "provenance": []
    },
    "kernelspec": {
      "name": "python3",
      "display_name": "Python 3"
    },
    "language_info": {
      "name": "python"
    }
  },
  "cells": [
    {
      "cell_type": "markdown",
      "source": [],
      "metadata": {
        "id": "igl_x2xcBEuN"
      }
    },
    {
      "cell_type": "markdown",
      "source": [
        "#Python basic questions"
      ],
      "metadata": {
        "id": "XtRd4N59Bv5i"
      }
    },
    {
      "cell_type": "code",
      "execution_count": null,
      "metadata": {
        "id": "B8eOuvEUA989"
      },
      "outputs": [],
      "source": []
    },
    {
      "cell_type": "code",
      "source": [],
      "metadata": {
        "id": "-8jLrpuzHVIT"
      },
      "execution_count": null,
      "outputs": []
    },
    {
      "cell_type": "markdown",
      "source": [
        "1.What is python,and why is it popular?\n",
        "- Python is high level programming language known for its simple and readable syntax.It is popular because it is easy to learn ,cross platform,open source,and widely ued in fields like web development,data science,AI and automation.\n",
        "\n",
        "2. What is an interpreter in python?\n",
        "- An interpreter in python is a program that executes python code line by line.\n",
        "It translates each line of Python code into machine code so the computer  can run it directly.Unlike a ccompiler,it does not convert the whole program at once'which makes Python easier to test and debug.\n",
        "\n",
        "3. What are pre-defined Keywords in python?\n",
        "- Predefined keywords in Python are reversed words thst hs=ave special meaning and purpose in the langugae.They cannot be used as variaable  names .Examples: if,else ,clss,def,import,true,false,None.\n",
        "\n",
        "4. Can keywords be use as variable names?\n",
        "- No keywords cannot be used as variable names in python because they are reversed words with special meaning.\n",
        "\n",
        "5. What is Mutability in python?\n",
        "- Mutability in python means whether an object can be changed after it is created.\n",
        ".Mutable objects-can be changed(eg. list,dict,obj)\n",
        ".Immutable objects : Canton be changed (eg. int, float,string ,tuple)\n",
        "\n",
        "6. Why are lists mutable,but tuppeles are immutable?\n",
        "- Lists are mutable because their elemets can be changed,added,or removed aftee creation/.Tuples are immutable because once created ,their elements cannot be modified,which makes them faster and memomry efficient.\n",
        "\n",
        "7. What is the difference between\"==\" and\"is\" operators in python?\n",
        "- == operator -> checks if values of two objects are equal.\n",
        "is operator-> checks if two objects refr to sme memory location (same identify)\n",
        "Ex:\n",
        "a=[1,2,3}\n",
        "b={1,2,3}\n",
        "print(a==b) # True ( values are same)\n",
        "print(a is b) # False (different memory location)\n",
        "\n",
        "8. What are logical operator in python?\n",
        "- Logical operators in python are used to combine conditional statements.They return True or False.\n",
        "\n",
        ". and-> returns True if both conditions are true\n",
        ".or->reurns True if at least one condition is true\n",
        ".not-> reverse the rsult (True becomes False,False becomes True)\n",
        "\n",
        "example: x=5\n",
        "print(x>2 and x< 10) #True\n",
        "\n",
        "9.What is typecasting in python?\n",
        "- Typecasting in pythonmeans converting one data type into another,like int to float or string to int.\n",
        "example:-\n",
        "x=\"10\"\n",
        "y+int(x)#\" 10\" (string) converted to 10 (int)\n",
        "\n",
        "10.What is the difference between implict and exolict type casting?\n",
        "- . Implicit typecasting (type conversion):\n",
        "Done automatically by python, without ud=ser involvement.\n",
        ".Example: x=5 + 2.0 # int is converted to float automatically\n",
        ". Explict typecasting: Done manually by the programmer using functions like int(),float(),string().\n",
        ".Example: x= int (\"10\") # atring converted to int\n",
        "\n",
        "11. What is the purpose pf conditional statement in python.\n",
        "- The purpose of conditional statements in python is to make decisons in a program. They allow the code to execute certsin blocks only if a conditions is True(using if,elif, else)\n",
        ".Example:\n",
        "x=10\n",
        "ifx>5;\n",
        "print(\"Greater\")\n",
        "\n",
        "12. How does the elif statement work?\n",
        "- The elif statement in Python lets you check muktiple conditions after an if. It runs only if the if conditional is False and its own condition is True.\n",
        ".Example:\n",
        "x=10\n",
        "if x>15;\n",
        " print(\"Greater than 15\")\n",
        " elif x==10:\n",
        " print (\"Equa to 10\") # This runs else: print(\"smaller\")\n",
        "\n",
        " 13. What is the difference between for and while loops?\n",
        " - . for loop -> used when you know the number of iterations ( works with the sequence ike list,range,string)\n",
        ".while loop-> used when youndont know the exact number of iterations; it runs until a condition becomes false.\n",
        "\n",
        ".Example:\n",
        "\n",
        "for i in range(3): # runs 3times\n",
        "print(ix=0\n",
        "whilex<3: # runs untik condition is false\n",
        "print(x)\n",
        "x+=1\n",
        "\n",
        "14.Describe a scenario where a while loop is more suitable that a for loop.\n",
        "- A while lopp is more suitable when the number of itration is umnlown and depends on a condition.\n",
        " example:\n",
        "  password= \"\"\n",
        "   while password !+ \"1234\":\n",
        "   password= input ( \"Enter password:\")\n",
        "   print(\"Access Granted\")\n",
        "\n",
        "   \n"
      ],
      "metadata": {
        "id": "Nzb_uuaiEsYD"
      }
    },
    {
      "cell_type": "markdown",
      "source": [
        "# Practical Questions"
      ],
      "metadata": {
        "id": "XqHvV2LBV1bi"
      }
    },
    {
      "cell_type": "markdown",
      "source": [
        "Write python program to print\"hello ,world!"
      ],
      "metadata": {
        "id": "HlJVgBKhxZwB"
      }
    },
    {
      "cell_type": "code",
      "source": [
        "print(\"Hello,World!\")"
      ],
      "metadata": {
        "colab": {
          "base_uri": "https://localhost:8080/"
        },
        "id": "FNIkK8VlwzMn",
        "outputId": "0e296c5d-f32b-4aac-a0ae-c0d647756e32"
      },
      "execution_count": 4,
      "outputs": [
        {
          "output_type": "stream",
          "name": "stdout",
          "text": [
            "Hello,World!\n"
          ]
        }
      ]
    },
    {
      "cell_type": "markdown",
      "source": [
        "Write a python program that displays your name and age.\n"
      ],
      "metadata": {
        "id": "WjOXWXDxxtqr"
      }
    },
    {
      "cell_type": "code",
      "source": [
        "#Program to dispaly name and age\n",
        "name=\"Sakshi\"\n",
        "age=20\n",
        "\n",
        "print(\"Name:\", name)\n",
        "print(\"Age\",age)"
      ],
      "metadata": {
        "colab": {
          "base_uri": "https://localhost:8080/"
        },
        "id": "Gdx8UPl6x24b",
        "outputId": "8ee623c1-602f-46da-bf7c-51af5332a23b"
      },
      "execution_count": 5,
      "outputs": [
        {
          "output_type": "stream",
          "name": "stdout",
          "text": [
            "Name: Sakshi\n",
            "Age 20\n"
          ]
        }
      ]
    },
    {
      "cell_type": "markdown",
      "source": [
        "Write code to print all the predefines keywords in python using the keyword library.\n"
      ],
      "metadata": {
        "id": "vXHOQwl7yRjW"
      }
    },
    {
      "cell_type": "code",
      "source": [
        "#Program to dispaly all predefined keywords in Python\n",
        "import keyword\n",
        "print(\"Python Keywords:\")\n",
        "print(keyword.kwlist)"
      ],
      "metadata": {
        "id": "nVe127a9yfq_",
        "outputId": "1bd0ebc6-227b-401f-c0a7-e9dba190966d",
        "colab": {
          "base_uri": "https://localhost:8080/"
        }
      },
      "execution_count": 10,
      "outputs": [
        {
          "output_type": "stream",
          "name": "stdout",
          "text": [
            "Python Keywords:\n",
            "['False', 'None', 'True', 'and', 'as', 'assert', 'async', 'await', 'break', 'class', 'continue', 'def', 'del', 'elif', 'else', 'except', 'finally', 'for', 'from', 'global', 'if', 'import', 'in', 'is', 'lambda', 'nonlocal', 'not', 'or', 'pass', 'raise', 'return', 'try', 'while', 'with', 'yield']\n"
          ]
        }
      ]
    },
    {
      "cell_type": "code",
      "source": [],
      "metadata": {
        "id": "j6Vtt4_RWD_y"
      },
      "execution_count": null,
      "outputs": []
    },
    {
      "cell_type": "markdown",
      "source": [],
      "metadata": {
        "id": "NkLNHSFOzxub"
      }
    },
    {
      "cell_type": "markdown",
      "source": [],
      "metadata": {
        "id": "zkSI0jauzueU"
      }
    },
    {
      "cell_type": "markdown",
      "source": [
        "Write a program that checks if a given word is a python keywords"
      ],
      "metadata": {
        "id": "XemDYkKgzio1"
      }
    },
    {
      "cell_type": "code",
      "source": [
        "# Program to check if a word is a python keyword\n",
        "import keyword\n",
        "word=input(\"Enter a word:\")\n",
        "\n",
        "if keyword.iskeyword(word):\n",
        "  print(f\"'{word}'is a python keyword.\")\n",
        "\n",
        "  else:\n",
        "    print(f\"'{word}' is not a python keyword.\")"
      ],
      "metadata": {
        "id": "-XAq5RWez259",
        "outputId": "09f4a517-ea99-466c-a835-58e74d1ad211",
        "colab": {
          "base_uri": "https://localhost:8080/",
          "height": 106
        }
      },
      "execution_count": 14,
      "outputs": [
        {
          "output_type": "error",
          "ename": "SyntaxError",
          "evalue": "invalid syntax (ipython-input-3785693516.py, line 8)",
          "traceback": [
            "\u001b[0;36m  File \u001b[0;32m\"/tmp/ipython-input-3785693516.py\"\u001b[0;36m, line \u001b[0;32m8\u001b[0m\n\u001b[0;31m    else:\u001b[0m\n\u001b[0m    ^\u001b[0m\n\u001b[0;31mSyntaxError\u001b[0m\u001b[0;31m:\u001b[0m invalid syntax\n"
          ]
        }
      ]
    },
    {
      "cell_type": "markdown",
      "source": [
        "Create a list and tuple in python and demonstrate how attempting to change an element works differently for each\n"
      ],
      "metadata": {
        "id": "GLxkYYO43TUC"
      }
    },
    {
      "cell_type": "code",
      "source": [
        "#Creating a list and tuple\n",
        "my_list=[1,2,3]\n",
        "my_tuple=(1,2,3)\n",
        "\n",
        "#Changing an element in the list\n",
        "my_list[0]=10\n",
        "print(\"Updated list:\",my_list) #[10,2,3]\n",
        "#Attempting to change an element in the tuple\n",
        "try:\n",
        "  my_tuple[0]=10 #Error\n",
        "  except TypeError as e:\n",
        "    print(\"Error:\",e)\n"
      ],
      "metadata": {
        "id": "qaJIHnZI34IN",
        "outputId": "ce428326-a6a1-4468-b049-2111436bc184",
        "colab": {
          "base_uri": "https://localhost:8080/",
          "height": 106
        }
      },
      "execution_count": 17,
      "outputs": [
        {
          "output_type": "error",
          "ename": "SyntaxError",
          "evalue": "invalid syntax (ipython-input-3338295683.py, line 11)",
          "traceback": [
            "\u001b[0;36m  File \u001b[0;32m\"/tmp/ipython-input-3338295683.py\"\u001b[0;36m, line \u001b[0;32m11\u001b[0m\n\u001b[0;31m    except TypeError as e:\u001b[0m\n\u001b[0m    ^\u001b[0m\n\u001b[0;31mSyntaxError\u001b[0m\u001b[0;31m:\u001b[0m invalid syntax\n"
          ]
        }
      ]
    },
    {
      "cell_type": "markdown",
      "source": [
        "Write a function to demonstate the behavior of mutable and immutable arguments\n"
      ],
      "metadata": {
        "id": "Oljh2Art5Zcl"
      }
    },
    {
      "cell_type": "code",
      "source": [
        "#Function to modify mutable and immutable arguments\n",
        "def modify_data(num, 1st):\n",
        "  num+=10 #Imuttable (int)\n",
        "  1st.append(10) #Mutable (list)\n",
        "  print(\"Inside function -num:\",num)\n",
        "  print(\"Inside function -list :\",1st)\n",
        "\n",
        "  #Immutable argument\n",
        "  x=5\n",
        "  #Mutable argument\n",
        "  y=[1,2,3]\n",
        "  modify_data(x,y)\n",
        "  print(\"Outside funnction-x:\",x) #x\n",
        "  remains unchanged\n",
        "  print(\"Outside function-y:\",y) # y is changed"
      ],
      "metadata": {
        "id": "4LUpvcsb5lSp",
        "outputId": "cf797531-c232-401b-c052-779c059a9290",
        "colab": {
          "base_uri": "https://localhost:8080/",
          "height": 106
        }
      },
      "execution_count": 21,
      "outputs": [
        {
          "output_type": "error",
          "ename": "SyntaxError",
          "evalue": "invalid decimal literal (ipython-input-2025250419.py, line 2)",
          "traceback": [
            "\u001b[0;36m  File \u001b[0;32m\"/tmp/ipython-input-2025250419.py\"\u001b[0;36m, line \u001b[0;32m2\u001b[0m\n\u001b[0;31m    def modify_data(num, 1st):\u001b[0m\n\u001b[0m                         ^\u001b[0m\n\u001b[0;31mSyntaxError\u001b[0m\u001b[0;31m:\u001b[0m invalid decimal literal\n"
          ]
        }
      ]
    },
    {
      "cell_type": "code",
      "source": [],
      "metadata": {
        "id": "gBFMLx08zq5h"
      },
      "execution_count": null,
      "outputs": []
    },
    {
      "cell_type": "markdown",
      "source": [],
      "metadata": {
        "id": "9QkEnJJK5YxG"
      }
    },
    {
      "cell_type": "markdown",
      "source": [],
      "metadata": {
        "id": "Swx_AqZO5XQV"
      }
    },
    {
      "cell_type": "markdown",
      "source": [],
      "metadata": {
        "id": "TeLd7T6T3FX8"
      }
    },
    {
      "cell_type": "markdown",
      "source": [],
      "metadata": {
        "id": "Pf3OsWxX3ENS"
      }
    },
    {
      "cell_type": "markdown",
      "source": [],
      "metadata": {
        "id": "27m2jRgYxq2Z"
      }
    },
    {
      "cell_type": "code",
      "source": [],
      "metadata": {
        "id": "dfpKIj-mV9Al"
      },
      "execution_count": null,
      "outputs": []
    },
    {
      "cell_type": "code",
      "source": [],
      "metadata": {
        "id": "eH41_oP6VvZy"
      },
      "execution_count": null,
      "outputs": []
    },
    {
      "cell_type": "markdown",
      "source": [],
      "metadata": {
        "id": "rM0PoJ4cEn1m"
      }
    }
  ]
}